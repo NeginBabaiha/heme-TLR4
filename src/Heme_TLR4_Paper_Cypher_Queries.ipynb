{
 "nbformat": 4,
 "nbformat_minor": 5,
 "metadata": {
  "language_info": {
   "name": "python"
  }
 },
 "cells": [
  {
   "cell_type": "markdown",
   "source": [
    "# Queries for Heme-TLR4 Interactions"
   ],
   "metadata": {}
  },
  {
   "cell_type": "markdown",
   "source": [
    "## 1. Core Heme-TLR4 Signaling Axis"
   ],
   "metadata": {}
  },
  {
   "cell_type": "markdown",
   "source": [
    "### Find the central heme-TLR4-MD2 interaction triples\r\n",
    "\r\n",
    "```cypher\r\n",
    "MATCH (heme)-[r1]-(tlr4)-[r2]-(md2)\r\n",
    "WHERE (heme.name = \"heme\" OR heme.bel CONTAINS \"heme\")\r\n",
    "  AND (tlr4.name = \"TLR4\" OR tlr4.bel CONTAINS \"TLR4\")\r\n",
    "  AND (md2.name = \"MD-2\" OR md2.bel CONTAINS \"MD-2\" OR md2.name = \"LY96\" OR md2.bel CONTAINS \"LY96\")\r\n",
    "RETURN heme, r1, tlr4, r2, md2\r\n",
    "'''"
   ],
   "metadata": {}
  },
  {
   "cell_type": "markdown",
   "source": [
    "### Find heme → TLR4 → MyD88 signaling pathway\r\n",
    "```cypher\r\n",
    "MATCH path = (heme)-[*1..3]-(myd88)\r\n",
    "WHERE (heme.name = \"heme\" OR heme.bel CONTAINS \"heme\")\r\n",
    "  AND (myd88.name = \"MyD88\" OR myd88.bel CONTAINS \"MyD88\")\r\n",
    "RETURN path\r\n",
    "LIMIT 10\r\n",
    "'''  "
   ],
   "metadata": {}
  },
  {
   "cell_type": "markdown",
   "source": [
    "## 2. Five Newly Identified Entities from the Paper\r\n",
    "\r\n",
    "### Find AP-1 (Activator Protein 1) and its connections\r\n",
    "```cypher\r\n",
    "MATCH (ap1)\r\n",
    "WHERE ap1.name = \"AP-1\" OR ap1.bel CONTAINS \"AP-1\" OR ap1.name CONTAINS \"AP1\"\r\n",
    "OPTIONAL MATCH (ap1)-[r]-(connected)\r\n",
    "RETURN ap1, r, connected\r\n",
    "LIMIT 20\r\n",
    "```\r\n",
    "\r\n",
    "### Find IL-12 relationships\r\n",
    "```cypher\r\n",
    "MATCH (il12)\r\n",
    "WHERE il12.name = \"IL-12\" OR il12.bel CONTAINS \"IL-12\" OR il12.name = \"Interleukin-12\"\r\n",
    "OPTIONAL MATCH (il12)-[r]-(connected)\r\n",
    "RETURN il12, r, connected\r\n",
    "```\r\n",
    "\r\n",
    "### Find CD80 and CD86 co-stimulatory molecules\r\n",
    "```cypher\r\n",
    "MATCH (costim)\r\n",
    "WHERE costim.name IN [\"CD80\", \"CD86\"] \r\n",
    "   OR costim.bel CONTAINS \"CD80\" \r\n",
    "   OR costim.bel CONTAINS \"CD86\"\r\n",
    "OPTIONAL MATCH (costim)-[r]-(connected)\r\n",
    "RETURN costim, r, connected\r\n",
    "```\r\n",
    "\r\n",
    "### Find CXCL1 chemokine relationships\r\n",
    "```cypher\r\n",
    "MATCH (cxcl1)\r\n",
    "WHERE cxcl1.name = \"CXCL1\" OR cxcl1.bel CONTAINS \"CXCL1\"\r\n",
    "OPTIONAL MATCH (cxcl1)-[r]-(connected)\r\n",
    "RETURN cxcl1, r, connected\r\n",
    "```\r\n",
    "\r\n",
    "### All five new entities in one query\r\n",
    "```cypher\r\n",
    "MATCH (entity)\r\n",
    "WHERE entity.name IN [\"AP-1\", \"IL-12\", \"CD80\", \"CD86\", \"CXCL1\"]\r\n",
    "   OR entity.bel CONTAINS \"AP-1\" \r\n",
    "   OR entity.bel CONTAINS \"IL-12\"\r\n",
    "   OR entity.bel CONTAINS \"CD80\"\r\n",
    "   OR entity.bel CONTAINS \"CD86\" \r\n",
    "   OR entity.bel CONTAINS \"CXCL1\"\r\n",
    "OPTIONAL MATCH (entity)-[r]-(connected)\r\n",
    "RETURN entity, r, connected\r\n",
    "```\r\n",
    "\r\n",
    "## 3. NF-κB and MAPK Downstream Signaling\r\n",
    "\r\n",
    "### Find NF-κB activation pathways from heme\r\n",
    "```cypher\r\n",
    "MATCH path = (heme)-[*2..4]-(nfkb)\r\n",
    "WHERE (heme.name = \"heme\" OR heme.bel CONTAINS \"heme\")\r\n",
    "  AND (nfkb.name CONTAINS \"NF\" OR nfkb.bel CONTAINS \"NF\" OR nfkb.name CONTAINS \"NFKB\")\r\n",
    "RETURN path\r\n",
    "LIMIT 10\r\n",
    "```\r\n",
    "\r\n",
    "### Find MAPK (JNK, ERK) signaling from TLR4\r\n",
    "```cypher\r\n",
    "MATCH (tlr4)-[*1..3]-(mapk)\r\n",
    "WHERE (tlr4.name = \"TLR4\" OR tlr4.bel CONTAINS \"TLR4\")\r\n",
    "  AND (mapk.name IN [\"JNK\", \"ERK\", \"MAPK\"] \r\n",
    "       OR mapk.bel CONTAINS \"JNK\" \r\n",
    "       OR mapk.bel CONTAINS \"ERK\" \r\n",
    "       OR mapk.bel CONTAINS \"MAPK\")\r\n",
    "OPTIONAL MATCH (mapk)-[r]-(downstream)\r\n",
    "RETURN tlr4, mapk, r, downstream\r\n",
    "LIMIT 15\r\n",
    "```\r\n",
    "\r\n"
   ],
   "metadata": {}
  }
 ]
}
{
 "cells": [
  {
   "cell_type": "markdown",
   "source": [
    "# Import data into Neo4J"
   ],
   "metadata": {}
  },
  {
   "cell_type": "markdown",
   "source": [
    "## ✅ Step 1: Install the 'neo4j' branch of the `ebel` package\n",
    "\n",
    "To install the `ebel` package from the `neo4j` development branch, run the following command:\n",
    "\n",
    "```bash\n",
    "pip install git+https://github.com/e-bel/ebel.git@neo4j\n"
   ],
   "metadata": {}
  },
  {
   "cell_type": "code",
   "execution_count": 1,
   "source": [
    "from ebel.manager.neo4j.n4j_meta import Neo4jClient\r\n",
    "from ebel.manager.neo4j.bel import Neo4jBel\r\n",
    "import os"
   ],
   "outputs": [],
   "metadata": {}
  },
  {
   "cell_type": "code",
   "execution_count": null,
   "source": [
    "paths = []\r\n",
    "for path, _, files in os.walk(\"hemeKG-bel-files\"):\r\n",
    "    for file in files:\r\n",
    "        print(file)\r\n",
    "        if file.endswith(\"_cleaned.bel.json\"):\r\n",
    "            print(path)\r\n",
    "            paths.append(os.path.join(path, file))"
   ],
   "outputs": [],
   "metadata": {}
  },
  {
   "cell_type": "code",
   "execution_count": 75,
   "source": [
    "neo = Neo4jClient(\r\n",
    "    uri=\"bolt://localhost:7687\", database=\"neo4j\", user=\"neo4j\", password=\"pass\"\r\n",
    ")\r\n",
    "neo.delete_everything()\r\n"
   ],
   "outputs": [],
   "metadata": {}
  },
  {
   "cell_type": "code",
   "execution_count": null,
   "source": [
    "#Load all graphs\r\n",
    "n4jbel = Neo4jBel(client=neo)\r\n",
    "for path in paths:\r\n",
    "    n4jbel.import_json(input_path=path, update_from_protein2gene=False) \r\n",
    "\r\n",
    "print(\"Done\")"
   ],
   "outputs": [],
   "metadata": {}
  },
  {
   "cell_type": "markdown",
   "source": [
    "## validate bel files"
   ],
   "metadata": {}
  },
  {
   "cell_type": "code",
   "execution_count": 19,
   "source": [
    "##valdiate bel files\r\n",
    "from ebel.validate import validate_bel_file\r\n",
    "validate_bel_file(\"hemeKG-bel-files/heme_25301065_cleaned.bel\", reports = \"report1.xlsx\", json_file = True, force_json = True) \r\n",
    "# json_file = True"
   ],
   "outputs": [
    {
     "output_type": "stream",
     "name": "stderr",
     "text": [
      "Cannot force JSON file due to syntax errors. Please check the BEL file.\n"
     ]
    }
   ],
   "metadata": {}
  },
  {
   "cell_type": "markdown",
   "source": [
    "## repair bel files, create json file"
   ],
   "metadata": {}
  },
  {
   "cell_type": "code",
   "execution_count": 18,
   "source": [
    "from ebel.validate import repair_bel_file \r\n",
    "repair_bel_file(\"hemeKG-bel-files/heme_25301065_cleaned.bel\", \"REPAIRED.bel\")"
   ],
   "outputs": [],
   "metadata": {}
  }
 ],
 "metadata": {
  "kernelspec": {
   "display_name": "Python 3",
   "language": "python",
   "name": "python3"
  },
  "language_info": {
   "codemirror_mode": {
    "name": "ipython",
    "version": 3
   },
   "file_extension": ".py",
   "mimetype": "text/x-python",
   "name": "python",
   "nbconvert_exporter": "python",
   "pygments_lexer": "ipython3",
   "version": "3.11.4"
  }
 },
 "nbformat": 4,
 "nbformat_minor": 2
}